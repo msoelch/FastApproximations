{
 "metadata": {
  "name": "",
  "signature": "sha256:ad95db0c8a82b5faf75f16876f57a05f75086245b1bf107c0e4bc5faef3704d8"
 },
 "nbformat": 3,
 "nbformat_minor": 0,
 "worksheets": []
}